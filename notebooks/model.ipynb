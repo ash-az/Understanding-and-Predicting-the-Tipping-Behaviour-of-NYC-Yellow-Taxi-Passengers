{
 "cells": [
  {
   "cell_type": "markdown",
   "metadata": {},
   "source": [
    "# Model Building"
   ]
  },
  {
   "cell_type": "markdown",
   "metadata": {},
   "source": [
    "#### Starting the Spark Session"
   ]
  },
  {
   "cell_type": "code",
   "execution_count": 1,
   "metadata": {},
   "outputs": [
    {
     "name": "stdout",
     "output_type": "stream",
     "text": [
      "22/08/22 07:53:47 WARN Utils: Your hostname, DESKTOP-AKL6QQR resolves to a loopback address: 127.0.1.1; using 192.168.86.177 instead (on interface eth0)\n",
      "22/08/22 07:53:47 WARN Utils: Set SPARK_LOCAL_IP if you need to bind to another address\n"
     ]
    },
    {
     "name": "stderr",
     "output_type": "stream",
     "text": [
      "Setting default log level to \"WARN\".\n",
      "To adjust logging level use sc.setLogLevel(newLevel). For SparkR, use setLogLevel(newLevel).\n"
     ]
    },
    {
     "name": "stdout",
     "output_type": "stream",
     "text": [
      "22/08/22 07:53:58 WARN NativeCodeLoader: Unable to load native-hadoop library for your platform... using builtin-java classes where applicable\n"
     ]
    }
   ],
   "source": [
    "from pyspark.sql import SparkSession\n",
    "\n",
    "# Create a spark session (which will run spark jobs)\n",
    "spark = (\n",
    "    SparkSession.builder.appName('Project 1 model')\n",
    "    .config('spark.sql.repl.eagerEval.enabled', True) \n",
    "    .config('spark.sql.parquet.cacheMetadata', True)\n",
    "    .config('spark.executor.memory', '4g')\n",
    "    .config('spark.driver.memory', '5g')\n",
    "    .config('spark.sql.session.timeZone', 'Etc/UTC')\n",
    "    .getOrCreate()\n",
    ")"
   ]
  },
  {
   "cell_type": "markdown",
   "metadata": {},
   "source": [
    "#### Read in the Data"
   ]
  },
  {
   "cell_type": "code",
   "execution_count": 2,
   "metadata": {},
   "outputs": [
    {
     "name": "stderr",
     "output_type": "stream",
     "text": [
      "                                                                                \r"
     ]
    }
   ],
   "source": [
    "full_sdf = spark.read.parquet('../data/curated/processed_data2')"
   ]
  },
  {
   "cell_type": "markdown",
   "metadata": {},
   "source": [
    "#### Prepare Data for Modelling"
   ]
  },
  {
   "cell_type": "code",
   "execution_count": 3,
   "metadata": {},
   "outputs": [
    {
     "name": "stderr",
     "output_type": "stream",
     "text": [
      "                                                                                \r"
     ]
    }
   ],
   "source": [
    "# indexing PULocationID\n",
    "from pyspark.ml.feature import (StringIndexer, OneHotEncoder, VectorAssembler)\n",
    "indexer = StringIndexer(inputCol='PULocationID', outputCol='PU_num')\n",
    "index_sdf = indexer.fit(full_sdf).transform(full_sdf)\n",
    "\n",
    "# indexing DOLocationID\n",
    "indexer = StringIndexer(inputCol='DOLocationID', outputCol='DO_num')\n",
    "index_sdf = indexer.fit(index_sdf).transform(index_sdf)"
   ]
  },
  {
   "cell_type": "code",
   "execution_count": 4,
   "metadata": {},
   "outputs": [],
   "source": [
    "# one hot encoding PULocationID\n",
    "encoder = OneHotEncoder(inputCol = 'PU_num', outputCol = 'PU_vec')\n",
    "onehot_sdf = encoder.fit(index_sdf).transform(index_sdf)\n",
    "\n",
    "# one hot encoding PULocationID\n",
    "encoder = OneHotEncoder(inputCol = 'DO_num', outputCol = 'DO_vec')\n",
    "onehot_sdf = encoder.fit(onehot_sdf).transform(onehot_sdf)"
   ]
  },
  {
   "cell_type": "code",
   "execution_count": 5,
   "metadata": {},
   "outputs": [],
   "source": [
    "# VectorAssembler creates new vectors from existing columns\n",
    "from pyspark.ml.feature import VectorAssembler\n",
    "\n",
    "features = 'features'\n",
    "input_cols = ['trip_distance', 'PU_vec', 'DO_vec', 'tolls_amount', 'time_delta_mins']\n",
    "\n",
    "assembler = VectorAssembler(inputCols=input_cols, outputCol=features)\n",
    "\n",
    "assemble_sdf = assembler.transform(onehot_sdf.dropna('any'))\n"
   ]
  },
  {
   "cell_type": "code",
   "execution_count": 6,
   "metadata": {},
   "outputs": [
    {
     "name": "stderr",
     "output_type": "stream",
     "text": [
      "[Stage 7:>                                                          (0 + 1) / 1]\r"
     ]
    },
    {
     "name": "stdout",
     "output_type": "stream",
     "text": [
      "+-----+--------------------+\n",
      "|label|            features|\n",
      "+-----+--------------------+\n",
      "|  1.7|(522,[0,21,260,52...|\n",
      "| 1.26|(522,[0,4,278,521...|\n",
      "| 1.59|(522,[0,35,260,52...|\n",
      "| 1.56|(522,[0,4,271,521...|\n",
      "| 1.96|(522,[0,4,305,521...|\n",
      "+-----+--------------------+\n",
      "only showing top 5 rows\n",
      "\n"
     ]
    },
    {
     "name": "stderr",
     "output_type": "stream",
     "text": [
      "                                                                                \r"
     ]
    }
   ],
   "source": [
    "# drop unnecessary features\n",
    "model_sdf = assemble_sdf.select(['tip_amount', 'features'])\n",
    "model_sdf = model_sdf.withColumnRenamed('tip_amount', 'label')\n",
    "model_sdf.show(5)"
   ]
  },
  {
   "cell_type": "code",
   "execution_count": 7,
   "metadata": {},
   "outputs": [],
   "source": [
    "# split data for training and testing\n",
    "split = model_sdf.randomSplit([0.7, 0.3])\n",
    "train_sdf = split[0]\n",
    "test_sdf = split[1]"
   ]
  },
  {
   "cell_type": "markdown",
   "metadata": {},
   "source": [
    "#### Hyperparameter Tuning of Linear Regression"
   ]
  },
  {
   "cell_type": "code",
   "execution_count": 9,
   "metadata": {},
   "outputs": [
    {
     "name": "stderr",
     "output_type": "stream",
     "text": [
      "[Stage 8:========================>                                 (6 + 8) / 14]\r"
     ]
    },
    {
     "name": "stdout",
     "output_type": "stream",
     "text": [
      "22/08/22 03:05:49 WARN InstanceBuilder$NativeBLAS: Failed to load implementation from:dev.ludovic.netlib.blas.JNIBLAS\n",
      "22/08/22 03:05:49 WARN InstanceBuilder$NativeBLAS: Failed to load implementation from:dev.ludovic.netlib.blas.ForeignLinkerBLAS\n"
     ]
    },
    {
     "name": "stderr",
     "output_type": "stream",
     "text": [
      "[Stage 8:=================================>                        (8 + 6) / 14]\r"
     ]
    },
    {
     "name": "stdout",
     "output_type": "stream",
     "text": [
      "22/08/22 03:05:50 WARN MemoryStore: Not enough space to cache rdd_26_0 in memory! (computed 151.0 MiB so far)\n",
      "22/08/22 03:05:51 WARN BlockManager: Persisting block rdd_26_0 to disk instead.\n",
      "22/08/22 03:05:51 WARN MemoryStore: Not enough space to cache rdd_26_1 in memory! (computed 236.5 MiB so far)\n",
      "22/08/22 03:05:51 WARN BlockManager: Persisting block rdd_26_1 to disk instead.\n",
      "22/08/22 03:05:58 WARN MemoryStore: Not enough space to cache rdd_26_3 in memory! (computed 151.1 MiB so far)\n",
      "22/08/22 03:05:58 WARN BlockManager: Persisting block rdd_26_3 to disk instead.\n"
     ]
    },
    {
     "name": "stderr",
     "output_type": "stream",
     "text": [
      "[Stage 8:========================================>                (10 + 4) / 14]\r"
     ]
    },
    {
     "name": "stdout",
     "output_type": "stream",
     "text": [
      "22/08/22 03:05:58 WARN MemoryStore: Not enough space to cache rdd_26_4 in memory! (computed 236.7 MiB so far)\n",
      "22/08/22 03:05:58 WARN BlockManager: Persisting block rdd_26_4 to disk instead.\n"
     ]
    },
    {
     "name": "stderr",
     "output_type": "stream",
     "text": [
      "[Stage 8:============================================>            (11 + 3) / 14]\r"
     ]
    },
    {
     "name": "stdout",
     "output_type": "stream",
     "text": [
      "22/08/22 03:06:01 WARN MemoryStore: Not enough space to cache rdd_26_4 in memory! (computed 236.7 MiB so far)\n",
      "22/08/22 03:06:03 WARN MemoryStore: Not enough space to cache rdd_26_3 in memory! (computed 236.6 MiB so far)\n"
     ]
    },
    {
     "name": "stderr",
     "output_type": "stream",
     "text": [
      "                                                                                \r"
     ]
    },
    {
     "name": "stdout",
     "output_type": "stream",
     "text": [
      "22/08/22 03:06:06 WARN InstanceBuilder$NativeLAPACK: Failed to load implementation from:dev.ludovic.netlib.lapack.JNILAPACK\n",
      "22/08/22 03:06:06 WARN MemoryStore: Not enough space to cache rdd_26_3 in memory! (computed 236.6 MiB so far)\n",
      "22/08/22 03:06:06 WARN MemoryStore: Not enough space to cache rdd_26_4 in memory! (computed 236.7 MiB so far)\n"
     ]
    },
    {
     "name": "stderr",
     "output_type": "stream",
     "text": [
      "[Stage 14:========================>                                (6 + 8) / 14]\r"
     ]
    },
    {
     "name": "stdout",
     "output_type": "stream",
     "text": [
      "22/08/22 03:07:33 WARN MemoryStore: Not enough space to cache rdd_26_4 in memory! (computed 236.7 MiB so far)\n",
      "22/08/22 03:07:33 WARN MemoryStore: Not enough space to cache rdd_26_5 in memory! (computed 236.7 MiB so far)\n",
      "22/08/22 03:07:33 WARN MemoryStore: Not enough space to cache rdd_26_3 in memory! (computed 364.9 MiB so far)\n"
     ]
    },
    {
     "name": "stderr",
     "output_type": "stream",
     "text": [
      "                                                                                \r"
     ]
    },
    {
     "name": "stdout",
     "output_type": "stream",
     "text": [
      "22/08/22 03:07:38 WARN BLAS: Failed to load implementation from: com.github.fommil.netlib.NativeSystemBLAS\n",
      "22/08/22 03:07:38 WARN BLAS: Failed to load implementation from: com.github.fommil.netlib.NativeRefBLAS\n",
      "22/08/22 03:07:38 WARN MemoryStore: Not enough space to cache rdd_26_5 in memory! (computed 236.7 MiB so far)\n"
     ]
    },
    {
     "name": "stderr",
     "output_type": "stream",
     "text": [
      "[Stage 16:========================>                                (6 + 8) / 14]\r"
     ]
    },
    {
     "name": "stdout",
     "output_type": "stream",
     "text": [
      "22/08/22 03:07:39 WARN MemoryStore: Not enough space to cache rdd_26_4 in memory! (computed 364.9 MiB so far)\n",
      "22/08/22 03:07:39 WARN MemoryStore: Not enough space to cache rdd_26_3 in memory! (computed 364.9 MiB so far)\n"
     ]
    },
    {
     "name": "stderr",
     "output_type": "stream",
     "text": [
      "[Stage 20:========================>                                (6 + 8) / 14]\r"
     ]
    },
    {
     "name": "stdout",
     "output_type": "stream",
     "text": [
      "22/08/22 03:07:48 WARN MemoryStore: Not enough space to cache rdd_26_4 in memory! (computed 364.9 MiB so far)\n",
      "22/08/22 03:07:48 WARN MemoryStore: Not enough space to cache rdd_26_3 in memory! (computed 364.9 MiB so far)\n",
      "22/08/22 03:07:48 WARN MemoryStore: Not enough space to cache rdd_26_2 in memory! (computed 364.8 MiB so far)\n",
      "22/08/22 03:07:48 WARN MemoryStore: Not enough space to cache rdd_26_5 in memory! (computed 365.4 MiB so far)\n"
     ]
    },
    {
     "name": "stderr",
     "output_type": "stream",
     "text": [
      "[Stage 22:========================>                                (6 + 8) / 14]\r"
     ]
    },
    {
     "name": "stdout",
     "output_type": "stream",
     "text": [
      "22/08/22 03:07:53 WARN MemoryStore: Not enough space to cache rdd_26_4 in memory! (computed 364.9 MiB so far)\n",
      "22/08/22 03:07:53 WARN MemoryStore: Not enough space to cache rdd_26_3 in memory! (computed 364.9 MiB so far)\n",
      "22/08/22 03:07:53 WARN MemoryStore: Not enough space to cache rdd_26_2 in memory! (computed 364.8 MiB so far)\n",
      "22/08/22 03:07:53 WARN MemoryStore: Not enough space to cache rdd_26_5 in memory! (computed 365.4 MiB so far)\n"
     ]
    },
    {
     "name": "stderr",
     "output_type": "stream",
     "text": [
      "[Stage 26:========================>                                (6 + 8) / 14]\r"
     ]
    },
    {
     "name": "stdout",
     "output_type": "stream",
     "text": [
      "22/08/22 03:08:02 WARN MemoryStore: Not enough space to cache rdd_26_4 in memory! (computed 364.9 MiB so far)\n",
      "22/08/22 03:08:02 WARN MemoryStore: Not enough space to cache rdd_26_2 in memory! (computed 364.8 MiB so far)\n",
      "22/08/22 03:08:02 WARN MemoryStore: Not enough space to cache rdd_26_5 in memory! (computed 365.4 MiB so far)\n",
      "22/08/22 03:08:02 WARN MemoryStore: Not enough space to cache rdd_26_3 in memory! (computed 364.9 MiB so far)\n"
     ]
    },
    {
     "name": "stderr",
     "output_type": "stream",
     "text": [
      "[Stage 28:========================>                                (6 + 8) / 14]\r"
     ]
    },
    {
     "name": "stdout",
     "output_type": "stream",
     "text": [
      "22/08/22 03:08:07 WARN MemoryStore: Not enough space to cache rdd_26_5 in memory! (computed 365.4 MiB so far)\n",
      "22/08/22 03:08:07 WARN MemoryStore: Not enough space to cache rdd_26_3 in memory! (computed 364.9 MiB so far)\n",
      "22/08/22 03:08:07 WARN MemoryStore: Not enough space to cache rdd_26_2 in memory! (computed 364.8 MiB so far)\n",
      "22/08/22 03:08:07 WARN MemoryStore: Not enough space to cache rdd_26_4 in memory! (computed 364.9 MiB so far)\n"
     ]
    },
    {
     "name": "stderr",
     "output_type": "stream",
     "text": [
      "[Stage 32:========================>                                (6 + 8) / 14]\r"
     ]
    },
    {
     "name": "stdout",
     "output_type": "stream",
     "text": [
      "22/08/22 03:08:15 WARN MemoryStore: Not enough space to cache rdd_26_5 in memory! (computed 365.4 MiB so far)\n",
      "22/08/22 03:08:15 WARN MemoryStore: Not enough space to cache rdd_26_2 in memory! (computed 364.8 MiB so far)\n",
      "22/08/22 03:08:15 WARN MemoryStore: Not enough space to cache rdd_26_4 in memory! (computed 364.9 MiB so far)\n",
      "22/08/22 03:08:15 WARN MemoryStore: Not enough space to cache rdd_26_3 in memory! (computed 364.9 MiB so far)\n"
     ]
    },
    {
     "name": "stderr",
     "output_type": "stream",
     "text": [
      "[Stage 34:========================>                                (6 + 8) / 14]\r"
     ]
    },
    {
     "name": "stdout",
     "output_type": "stream",
     "text": [
      "22/08/22 03:08:19 WARN MemoryStore: Not enough space to cache rdd_26_4 in memory! (computed 364.9 MiB so far)\n",
      "22/08/22 03:08:19 WARN MemoryStore: Not enough space to cache rdd_26_5 in memory! (computed 365.4 MiB so far)\n",
      "22/08/22 03:08:19 WARN MemoryStore: Not enough space to cache rdd_26_3 in memory! (computed 364.9 MiB so far)\n",
      "22/08/22 03:08:19 WARN MemoryStore: Not enough space to cache rdd_26_2 in memory! (computed 364.8 MiB so far)\n"
     ]
    },
    {
     "name": "stderr",
     "output_type": "stream",
     "text": [
      "[Stage 38:========================>                                (6 + 8) / 14]\r"
     ]
    },
    {
     "name": "stdout",
     "output_type": "stream",
     "text": [
      "22/08/22 03:08:28 WARN MemoryStore: Not enough space to cache rdd_26_2 in memory! (computed 364.8 MiB so far)\n",
      "22/08/22 03:08:28 WARN MemoryStore: Not enough space to cache rdd_26_4 in memory! (computed 364.9 MiB so far)\n",
      "22/08/22 03:08:28 WARN MemoryStore: Not enough space to cache rdd_26_5 in memory! (computed 365.4 MiB so far)\n",
      "22/08/22 03:08:28 WARN MemoryStore: Not enough space to cache rdd_26_3 in memory! (computed 364.9 MiB so far)\n"
     ]
    },
    {
     "name": "stderr",
     "output_type": "stream",
     "text": [
      "[Stage 40:========================>                                (6 + 8) / 14]\r"
     ]
    },
    {
     "name": "stdout",
     "output_type": "stream",
     "text": [
      "22/08/22 03:08:33 WARN MemoryStore: Not enough space to cache rdd_26_5 in memory! (computed 365.4 MiB so far)\n",
      "22/08/22 03:08:33 WARN MemoryStore: Not enough space to cache rdd_26_4 in memory! (computed 364.9 MiB so far)\n",
      "22/08/22 03:08:33 WARN MemoryStore: Not enough space to cache rdd_26_2 in memory! (computed 364.8 MiB so far)\n",
      "22/08/22 03:08:33 WARN MemoryStore: Not enough space to cache rdd_26_3 in memory! (computed 364.9 MiB so far)\n"
     ]
    },
    {
     "name": "stderr",
     "output_type": "stream",
     "text": [
      "[Stage 44:========================>                                (6 + 8) / 14]\r"
     ]
    },
    {
     "name": "stdout",
     "output_type": "stream",
     "text": [
      "22/08/22 03:08:41 WARN MemoryStore: Not enough space to cache rdd_26_5 in memory! (computed 365.4 MiB so far)\n",
      "22/08/22 03:08:41 WARN MemoryStore: Not enough space to cache rdd_26_4 in memory! (computed 364.9 MiB so far)\n",
      "22/08/22 03:08:41 WARN MemoryStore: Not enough space to cache rdd_26_2 in memory! (computed 364.8 MiB so far)\n",
      "22/08/22 03:08:41 WARN MemoryStore: Not enough space to cache rdd_26_3 in memory! (computed 364.9 MiB so far)\n"
     ]
    },
    {
     "name": "stderr",
     "output_type": "stream",
     "text": [
      "[Stage 46:========================>                                (6 + 8) / 14]\r"
     ]
    },
    {
     "name": "stdout",
     "output_type": "stream",
     "text": [
      "22/08/22 03:08:46 WARN MemoryStore: Not enough space to cache rdd_26_4 in memory! (computed 364.9 MiB so far)\n",
      "22/08/22 03:08:46 WARN MemoryStore: Not enough space to cache rdd_26_5 in memory! (computed 365.4 MiB so far)\n",
      "22/08/22 03:08:46 WARN MemoryStore: Not enough space to cache rdd_26_3 in memory! (computed 364.9 MiB so far)\n",
      "22/08/22 03:08:46 WARN MemoryStore: Not enough space to cache rdd_26_2 in memory! (computed 364.8 MiB so far)\n"
     ]
    },
    {
     "name": "stderr",
     "output_type": "stream",
     "text": [
      "[Stage 50:========================>                                (6 + 8) / 14]\r"
     ]
    },
    {
     "name": "stdout",
     "output_type": "stream",
     "text": [
      "22/08/22 03:08:53 WARN MemoryStore: Not enough space to cache rdd_26_3 in memory! (computed 364.9 MiB so far)\n",
      "22/08/22 03:08:54 WARN MemoryStore: Not enough space to cache rdd_26_4 in memory! (computed 364.9 MiB so far)\n",
      "22/08/22 03:08:54 WARN MemoryStore: Not enough space to cache rdd_26_5 in memory! (computed 365.4 MiB so far)\n",
      "22/08/22 03:08:54 WARN MemoryStore: Not enough space to cache rdd_26_2 in memory! (computed 364.8 MiB so far)\n"
     ]
    },
    {
     "name": "stderr",
     "output_type": "stream",
     "text": [
      "[Stage 52:========================>                                (6 + 8) / 14]\r"
     ]
    },
    {
     "name": "stdout",
     "output_type": "stream",
     "text": [
      "22/08/22 03:08:59 WARN MemoryStore: Not enough space to cache rdd_26_2 in memory! (computed 364.8 MiB so far)\n",
      "22/08/22 03:08:59 WARN MemoryStore: Not enough space to cache rdd_26_5 in memory! (computed 365.4 MiB so far)\n",
      "22/08/22 03:08:59 WARN MemoryStore: Not enough space to cache rdd_26_3 in memory! (computed 364.9 MiB so far)\n",
      "22/08/22 03:08:59 WARN MemoryStore: Not enough space to cache rdd_26_4 in memory! (computed 364.9 MiB so far)\n"
     ]
    },
    {
     "name": "stderr",
     "output_type": "stream",
     "text": [
      "[Stage 56:========================>                                (6 + 8) / 14]\r"
     ]
    },
    {
     "name": "stdout",
     "output_type": "stream",
     "text": [
      "22/08/22 03:09:06 WARN MemoryStore: Not enough space to cache rdd_26_2 in memory! (computed 364.8 MiB so far)\n",
      "22/08/22 03:09:06 WARN MemoryStore: Not enough space to cache rdd_26_4 in memory! (computed 364.9 MiB so far)\n",
      "22/08/22 03:09:06 WARN MemoryStore: Not enough space to cache rdd_26_3 in memory! (computed 364.9 MiB so far)\n",
      "22/08/22 03:09:06 WARN MemoryStore: Not enough space to cache rdd_26_5 in memory! (computed 365.4 MiB so far)\n"
     ]
    },
    {
     "name": "stderr",
     "output_type": "stream",
     "text": [
      "[Stage 58:========================>                                (6 + 8) / 14]\r"
     ]
    },
    {
     "name": "stdout",
     "output_type": "stream",
     "text": [
      "22/08/22 03:09:11 WARN MemoryStore: Not enough space to cache rdd_26_4 in memory! (computed 364.9 MiB so far)\n",
      "22/08/22 03:09:11 WARN MemoryStore: Not enough space to cache rdd_26_2 in memory! (computed 364.8 MiB so far)\n",
      "22/08/22 03:09:11 WARN MemoryStore: Not enough space to cache rdd_26_3 in memory! (computed 364.9 MiB so far)\n",
      "22/08/22 03:09:11 WARN MemoryStore: Not enough space to cache rdd_26_5 in memory! (computed 365.4 MiB so far)\n"
     ]
    },
    {
     "name": "stderr",
     "output_type": "stream",
     "text": [
      "                                                                                \r"
     ]
    },
    {
     "name": "stdout",
     "output_type": "stream",
     "text": [
      "22/08/22 03:09:18 WARN MemoryStore: Not enough space to cache rdd_26_2 in memory! (computed 364.8 MiB so far)\n",
      "22/08/22 03:09:18 WARN MemoryStore: Not enough space to cache rdd_26_3 in memory! (computed 364.9 MiB so far)\n",
      "22/08/22 03:09:18 WARN MemoryStore: Not enough space to cache rdd_26_4 in memory! (computed 364.9 MiB so far)\n",
      "22/08/22 03:09:18 WARN MemoryStore: Not enough space to cache rdd_26_5 in memory! (computed 365.4 MiB so far)\n"
     ]
    },
    {
     "name": "stderr",
     "output_type": "stream",
     "text": [
      "[Stage 64:========================>                                (6 + 8) / 14]\r"
     ]
    },
    {
     "name": "stdout",
     "output_type": "stream",
     "text": [
      "22/08/22 03:09:23 WARN MemoryStore: Not enough space to cache rdd_26_5 in memory! (computed 365.4 MiB so far)\n",
      "22/08/22 03:09:23 WARN MemoryStore: Not enough space to cache rdd_26_4 in memory! (computed 364.9 MiB so far)\n",
      "22/08/22 03:09:23 WARN MemoryStore: Not enough space to cache rdd_26_2 in memory! (computed 364.8 MiB so far)\n",
      "22/08/22 03:09:23 WARN MemoryStore: Not enough space to cache rdd_26_3 in memory! (computed 364.9 MiB so far)\n"
     ]
    },
    {
     "name": "stderr",
     "output_type": "stream",
     "text": [
      "[Stage 68:========================>                                (6 + 8) / 14]\r"
     ]
    },
    {
     "name": "stdout",
     "output_type": "stream",
     "text": [
      "22/08/22 03:09:31 WARN MemoryStore: Not enough space to cache rdd_26_3 in memory! (computed 364.9 MiB so far)\n",
      "22/08/22 03:09:31 WARN MemoryStore: Not enough space to cache rdd_26_2 in memory! (computed 364.8 MiB so far)\n",
      "22/08/22 03:09:31 WARN MemoryStore: Not enough space to cache rdd_26_5 in memory! (computed 365.4 MiB so far)\n",
      "22/08/22 03:09:31 WARN MemoryStore: Not enough space to cache rdd_26_4 in memory! (computed 364.9 MiB so far)\n"
     ]
    },
    {
     "name": "stderr",
     "output_type": "stream",
     "text": [
      "[Stage 70:========================>                                (6 + 8) / 14]\r"
     ]
    },
    {
     "name": "stdout",
     "output_type": "stream",
     "text": [
      "22/08/22 03:09:35 WARN MemoryStore: Not enough space to cache rdd_26_4 in memory! (computed 364.9 MiB so far)\n",
      "22/08/22 03:09:35 WARN MemoryStore: Not enough space to cache rdd_26_2 in memory! (computed 364.8 MiB so far)\n",
      "22/08/22 03:09:35 WARN MemoryStore: Not enough space to cache rdd_26_5 in memory! (computed 365.4 MiB so far)\n",
      "22/08/22 03:09:35 WARN MemoryStore: Not enough space to cache rdd_26_3 in memory! (computed 364.9 MiB so far)\n"
     ]
    },
    {
     "name": "stderr",
     "output_type": "stream",
     "text": [
      "[Stage 74:========================>                                (6 + 8) / 14]\r"
     ]
    },
    {
     "name": "stdout",
     "output_type": "stream",
     "text": [
      "22/08/22 03:09:43 WARN MemoryStore: Not enough space to cache rdd_26_3 in memory! (computed 364.9 MiB so far)\n",
      "22/08/22 03:09:43 WARN MemoryStore: Not enough space to cache rdd_26_2 in memory! (computed 364.8 MiB so far)\n",
      "22/08/22 03:09:43 WARN MemoryStore: Not enough space to cache rdd_26_4 in memory! (computed 364.9 MiB so far)\n",
      "22/08/22 03:09:43 WARN MemoryStore: Not enough space to cache rdd_26_5 in memory! (computed 365.4 MiB so far)\n"
     ]
    },
    {
     "name": "stderr",
     "output_type": "stream",
     "text": [
      "[Stage 76:========================>                                (6 + 8) / 14]\r"
     ]
    },
    {
     "name": "stdout",
     "output_type": "stream",
     "text": [
      "22/08/22 03:09:48 WARN MemoryStore: Not enough space to cache rdd_26_4 in memory! (computed 364.9 MiB so far)\n",
      "22/08/22 03:09:48 WARN MemoryStore: Not enough space to cache rdd_26_2 in memory! (computed 364.8 MiB so far)\n",
      "22/08/22 03:09:48 WARN MemoryStore: Not enough space to cache rdd_26_3 in memory! (computed 364.9 MiB so far)\n",
      "22/08/22 03:09:48 WARN MemoryStore: Not enough space to cache rdd_26_5 in memory! (computed 365.4 MiB so far)\n"
     ]
    },
    {
     "name": "stderr",
     "output_type": "stream",
     "text": [
      "[Stage 80:========================>                                (6 + 8) / 14]\r"
     ]
    },
    {
     "name": "stdout",
     "output_type": "stream",
     "text": [
      "22/08/22 03:09:55 WARN MemoryStore: Not enough space to cache rdd_26_5 in memory! (computed 365.4 MiB so far)\n",
      "22/08/22 03:09:55 WARN MemoryStore: Not enough space to cache rdd_26_3 in memory! (computed 364.9 MiB so far)\n",
      "22/08/22 03:09:55 WARN MemoryStore: Not enough space to cache rdd_26_4 in memory! (computed 364.9 MiB so far)\n",
      "22/08/22 03:09:55 WARN MemoryStore: Not enough space to cache rdd_26_2 in memory! (computed 364.8 MiB so far)\n"
     ]
    },
    {
     "name": "stderr",
     "output_type": "stream",
     "text": [
      "[Stage 82:========================>                                (6 + 8) / 14]\r"
     ]
    },
    {
     "name": "stdout",
     "output_type": "stream",
     "text": [
      "22/08/22 03:10:01 WARN MemoryStore: Not enough space to cache rdd_26_5 in memory! (computed 365.4 MiB so far)\n",
      "22/08/22 03:10:01 WARN MemoryStore: Not enough space to cache rdd_26_4 in memory! (computed 364.9 MiB so far)\n",
      "22/08/22 03:10:01 WARN MemoryStore: Not enough space to cache rdd_26_2 in memory! (computed 364.8 MiB so far)\n",
      "22/08/22 03:10:01 WARN MemoryStore: Not enough space to cache rdd_26_3 in memory! (computed 364.9 MiB so far)\n"
     ]
    },
    {
     "name": "stderr",
     "output_type": "stream",
     "text": [
      "[Stage 86:========================>                                (6 + 8) / 14]\r"
     ]
    },
    {
     "name": "stdout",
     "output_type": "stream",
     "text": [
      "22/08/22 03:10:09 WARN MemoryStore: Not enough space to cache rdd_26_5 in memory! (computed 365.4 MiB so far)\n",
      "22/08/22 03:10:09 WARN MemoryStore: Not enough space to cache rdd_26_3 in memory! (computed 364.9 MiB so far)\n",
      "22/08/22 03:10:09 WARN MemoryStore: Not enough space to cache rdd_26_4 in memory! (computed 364.9 MiB so far)\n",
      "22/08/22 03:10:09 WARN MemoryStore: Not enough space to cache rdd_26_2 in memory! (computed 364.8 MiB so far)\n"
     ]
    },
    {
     "name": "stderr",
     "output_type": "stream",
     "text": [
      "[Stage 88:========================>                                (6 + 8) / 14]\r"
     ]
    },
    {
     "name": "stdout",
     "output_type": "stream",
     "text": [
      "22/08/22 03:10:13 WARN MemoryStore: Not enough space to cache rdd_26_2 in memory! (computed 364.8 MiB so far)\n",
      "22/08/22 03:10:13 WARN MemoryStore: Not enough space to cache rdd_26_4 in memory! (computed 364.9 MiB so far)\n",
      "22/08/22 03:10:13 WARN MemoryStore: Not enough space to cache rdd_26_3 in memory! (computed 364.9 MiB so far)\n",
      "22/08/22 03:10:13 WARN MemoryStore: Not enough space to cache rdd_26_5 in memory! (computed 365.4 MiB so far)\n"
     ]
    },
    {
     "name": "stderr",
     "output_type": "stream",
     "text": [
      "[Stage 92:========================>                                (6 + 8) / 14]\r"
     ]
    },
    {
     "name": "stdout",
     "output_type": "stream",
     "text": [
      "22/08/22 03:10:21 WARN MemoryStore: Not enough space to cache rdd_26_4 in memory! (computed 364.9 MiB so far)\n",
      "22/08/22 03:10:21 WARN MemoryStore: Not enough space to cache rdd_26_3 in memory! (computed 364.9 MiB so far)\n",
      "22/08/22 03:10:21 WARN MemoryStore: Not enough space to cache rdd_26_5 in memory! (computed 365.4 MiB so far)\n",
      "22/08/22 03:10:21 WARN MemoryStore: Not enough space to cache rdd_26_2 in memory! (computed 364.8 MiB so far)\n"
     ]
    },
    {
     "name": "stderr",
     "output_type": "stream",
     "text": [
      "[Stage 94:========================>                                (6 + 8) / 14]\r"
     ]
    },
    {
     "name": "stdout",
     "output_type": "stream",
     "text": [
      "22/08/22 03:10:26 WARN MemoryStore: Not enough space to cache rdd_26_2 in memory! (computed 364.8 MiB so far)\n",
      "22/08/22 03:10:26 WARN MemoryStore: Not enough space to cache rdd_26_4 in memory! (computed 364.9 MiB so far)\n",
      "22/08/22 03:10:26 WARN MemoryStore: Not enough space to cache rdd_26_3 in memory! (computed 364.9 MiB so far)\n",
      "22/08/22 03:10:26 WARN MemoryStore: Not enough space to cache rdd_26_5 in memory! (computed 365.4 MiB so far)\n"
     ]
    },
    {
     "name": "stderr",
     "output_type": "stream",
     "text": [
      "[Stage 98:========================>                                (6 + 8) / 14]\r"
     ]
    },
    {
     "name": "stdout",
     "output_type": "stream",
     "text": [
      "22/08/22 03:10:34 WARN MemoryStore: Not enough space to cache rdd_26_5 in memory! (computed 365.4 MiB so far)\n",
      "22/08/22 03:10:34 WARN MemoryStore: Not enough space to cache rdd_26_3 in memory! (computed 364.9 MiB so far)\n",
      "22/08/22 03:10:34 WARN MemoryStore: Not enough space to cache rdd_26_2 in memory! (computed 364.8 MiB so far)\n",
      "22/08/22 03:10:34 WARN MemoryStore: Not enough space to cache rdd_26_4 in memory! (computed 364.9 MiB so far)\n"
     ]
    },
    {
     "name": "stderr",
     "output_type": "stream",
     "text": [
      "[Stage 100:========================>                               (6 + 8) / 14]\r"
     ]
    },
    {
     "name": "stdout",
     "output_type": "stream",
     "text": [
      "22/08/22 03:10:38 WARN MemoryStore: Not enough space to cache rdd_26_2 in memory! (computed 364.8 MiB so far)\n",
      "22/08/22 03:10:38 WARN MemoryStore: Not enough space to cache rdd_26_5 in memory! (computed 365.4 MiB so far)\n",
      "22/08/22 03:10:38 WARN MemoryStore: Not enough space to cache rdd_26_4 in memory! (computed 364.9 MiB so far)\n",
      "22/08/22 03:10:38 WARN MemoryStore: Not enough space to cache rdd_26_3 in memory! (computed 364.9 MiB so far)\n"
     ]
    },
    {
     "name": "stderr",
     "output_type": "stream",
     "text": [
      "[Stage 104:========================>                               (6 + 8) / 14]\r"
     ]
    },
    {
     "name": "stdout",
     "output_type": "stream",
     "text": [
      "22/08/22 03:10:45 WARN MemoryStore: Not enough space to cache rdd_26_5 in memory! (computed 365.4 MiB so far)\n",
      "22/08/22 03:10:45 WARN MemoryStore: Not enough space to cache rdd_26_3 in memory! (computed 364.9 MiB so far)\n",
      "22/08/22 03:10:45 WARN MemoryStore: Not enough space to cache rdd_26_2 in memory! (computed 364.8 MiB so far)\n",
      "22/08/22 03:10:46 WARN MemoryStore: Not enough space to cache rdd_26_4 in memory! (computed 364.9 MiB so far)\n"
     ]
    },
    {
     "name": "stderr",
     "output_type": "stream",
     "text": [
      "[Stage 106:========================>                               (6 + 8) / 14]\r"
     ]
    },
    {
     "name": "stdout",
     "output_type": "stream",
     "text": [
      "22/08/22 03:10:51 WARN MemoryStore: Not enough space to cache rdd_26_2 in memory! (computed 364.8 MiB so far)\n",
      "22/08/22 03:10:51 WARN MemoryStore: Not enough space to cache rdd_26_3 in memory! (computed 364.9 MiB so far)\n",
      "22/08/22 03:10:51 WARN MemoryStore: Not enough space to cache rdd_26_5 in memory! (computed 365.4 MiB so far)\n",
      "22/08/22 03:10:51 WARN MemoryStore: Not enough space to cache rdd_26_4 in memory! (computed 364.9 MiB so far)\n"
     ]
    },
    {
     "name": "stderr",
     "output_type": "stream",
     "text": [
      "[Stage 110:========================>                               (6 + 8) / 14]\r"
     ]
    },
    {
     "name": "stdout",
     "output_type": "stream",
     "text": [
      "22/08/22 03:10:58 WARN MemoryStore: Not enough space to cache rdd_26_4 in memory! (computed 364.9 MiB so far)\n",
      "22/08/22 03:10:58 WARN MemoryStore: Not enough space to cache rdd_26_2 in memory! (computed 364.8 MiB so far)\n",
      "22/08/22 03:10:58 WARN MemoryStore: Not enough space to cache rdd_26_5 in memory! (computed 365.4 MiB so far)\n",
      "22/08/22 03:10:58 WARN MemoryStore: Not enough space to cache rdd_26_3 in memory! (computed 364.9 MiB so far)\n"
     ]
    },
    {
     "name": "stderr",
     "output_type": "stream",
     "text": [
      "[Stage 112:========================>                               (6 + 8) / 14]\r"
     ]
    },
    {
     "name": "stdout",
     "output_type": "stream",
     "text": [
      "22/08/22 03:11:03 WARN MemoryStore: Not enough space to cache rdd_26_3 in memory! (computed 364.9 MiB so far)\n",
      "22/08/22 03:11:03 WARN MemoryStore: Not enough space to cache rdd_26_5 in memory! (computed 365.4 MiB so far)\n",
      "22/08/22 03:11:03 WARN MemoryStore: Not enough space to cache rdd_26_4 in memory! (computed 364.9 MiB so far)\n",
      "22/08/22 03:11:03 WARN MemoryStore: Not enough space to cache rdd_26_2 in memory! (computed 364.8 MiB so far)\n"
     ]
    },
    {
     "name": "stderr",
     "output_type": "stream",
     "text": [
      "                                                                                \r"
     ]
    }
   ],
   "source": [
    "from pyspark.ml.tuning import ParamGridBuilder\n",
    "from pyspark.ml.tuning import TrainValidationSplit\n",
    "from pyspark.ml.evaluation import RegressionEvaluator\n",
    "from pyspark.ml.regression import LinearRegression\n",
    "\n",
    "# adapted from https://spark.apache.org/docs/latest/ml-tuning.html\n",
    "\n",
    "# We use a ParamGridBuilder to construct a grid of parameters to search over.\n",
    "# TrainValidationSplit will try all combinations of values and determine best model using\n",
    "# the evaluator.\n",
    "lr = LinearRegression(maxIter=10)\n",
    "paramGrid = ParamGridBuilder()\\\n",
    "    .addGrid(lr.regParam, [0.1, 0.01, 0.3]) \\\n",
    "    .addGrid(lr.fitIntercept, [False, True])\\\n",
    "    .addGrid(lr.elasticNetParam, [0.0, 0.5, 1.0])\\\n",
    "    .build()\n",
    "\n",
    "# In this case the estimator is simply the linear regression.\n",
    "# A TrainValidationSplit requires an Estimator, a set of Estimator ParamMaps, and an Evaluator.\n",
    "tvs = TrainValidationSplit(estimator=lr,\n",
    "                           estimatorParamMaps=paramGrid,\n",
    "                           evaluator=RegressionEvaluator().setLabelCol('label'),\n",
    "                           # 80% of the data will be used for training, 20% for validation.\n",
    "                           trainRatio=0.8)\n",
    "model = tvs.fit(train_sdf)"
   ]
  },
  {
   "cell_type": "markdown",
   "metadata": {},
   "source": [
    "#### Model Testing of Linear Regression"
   ]
  },
  {
   "cell_type": "code",
   "execution_count": 14,
   "metadata": {},
   "outputs": [
    {
     "data": {
      "text/plain": [
       "[(1.4669672532445595,\n",
       "  {Param(parent='LinearRegression_54d1588a4616', name='regParam', doc='regularization parameter (>= 0).'): 0.1,\n",
       "   Param(parent='LinearRegression_54d1588a4616', name='fitIntercept', doc='whether to fit an intercept term.'): False,\n",
       "   Param(parent='LinearRegression_54d1588a4616', name='elasticNetParam', doc='the ElasticNet mixing parameter, in range [0, 1]. For alpha = 0, the penalty is an L2 penalty. For alpha = 1, it is an L1 penalty.'): 0.0}),\n",
       " (1.5694412658754782,\n",
       "  {Param(parent='LinearRegression_54d1588a4616', name='regParam', doc='regularization parameter (>= 0).'): 0.1,\n",
       "   Param(parent='LinearRegression_54d1588a4616', name='fitIntercept', doc='whether to fit an intercept term.'): False,\n",
       "   Param(parent='LinearRegression_54d1588a4616', name='elasticNetParam', doc='the ElasticNet mixing parameter, in range [0, 1]. For alpha = 0, the penalty is an L2 penalty. For alpha = 1, it is an L1 penalty.'): 0.5}),\n",
       " (1.5972153785161136,\n",
       "  {Param(parent='LinearRegression_54d1588a4616', name='regParam', doc='regularization parameter (>= 0).'): 0.1,\n",
       "   Param(parent='LinearRegression_54d1588a4616', name='fitIntercept', doc='whether to fit an intercept term.'): False,\n",
       "   Param(parent='LinearRegression_54d1588a4616', name='elasticNetParam', doc='the ElasticNet mixing parameter, in range [0, 1]. For alpha = 0, the penalty is an L2 penalty. For alpha = 1, it is an L1 penalty.'): 1.0}),\n",
       " (1.467187706969583,\n",
       "  {Param(parent='LinearRegression_54d1588a4616', name='regParam', doc='regularization parameter (>= 0).'): 0.1,\n",
       "   Param(parent='LinearRegression_54d1588a4616', name='fitIntercept', doc='whether to fit an intercept term.'): True,\n",
       "   Param(parent='LinearRegression_54d1588a4616', name='elasticNetParam', doc='the ElasticNet mixing parameter, in range [0, 1]. For alpha = 0, the penalty is an L2 penalty. For alpha = 1, it is an L1 penalty.'): 0.0}),\n",
       " (1.4974174909947742,\n",
       "  {Param(parent='LinearRegression_54d1588a4616', name='regParam', doc='regularization parameter (>= 0).'): 0.1,\n",
       "   Param(parent='LinearRegression_54d1588a4616', name='fitIntercept', doc='whether to fit an intercept term.'): True,\n",
       "   Param(parent='LinearRegression_54d1588a4616', name='elasticNetParam', doc='the ElasticNet mixing parameter, in range [0, 1]. For alpha = 0, the penalty is an L2 penalty. For alpha = 1, it is an L1 penalty.'): 0.5}),\n",
       " (1.5178436132628412,\n",
       "  {Param(parent='LinearRegression_54d1588a4616', name='regParam', doc='regularization parameter (>= 0).'): 0.1,\n",
       "   Param(parent='LinearRegression_54d1588a4616', name='fitIntercept', doc='whether to fit an intercept term.'): True,\n",
       "   Param(parent='LinearRegression_54d1588a4616', name='elasticNetParam', doc='the ElasticNet mixing parameter, in range [0, 1]. For alpha = 0, the penalty is an L2 penalty. For alpha = 1, it is an L1 penalty.'): 1.0}),\n",
       " (1.4665667056983969,\n",
       "  {Param(parent='LinearRegression_54d1588a4616', name='regParam', doc='regularization parameter (>= 0).'): 0.01,\n",
       "   Param(parent='LinearRegression_54d1588a4616', name='fitIntercept', doc='whether to fit an intercept term.'): False,\n",
       "   Param(parent='LinearRegression_54d1588a4616', name='elasticNetParam', doc='the ElasticNet mixing parameter, in range [0, 1]. For alpha = 0, the penalty is an L2 penalty. For alpha = 1, it is an L1 penalty.'): 0.0}),\n",
       " (1.4702668226724191,\n",
       "  {Param(parent='LinearRegression_54d1588a4616', name='regParam', doc='regularization parameter (>= 0).'): 0.01,\n",
       "   Param(parent='LinearRegression_54d1588a4616', name='fitIntercept', doc='whether to fit an intercept term.'): False,\n",
       "   Param(parent='LinearRegression_54d1588a4616', name='elasticNetParam', doc='the ElasticNet mixing parameter, in range [0, 1]. For alpha = 0, the penalty is an L2 penalty. For alpha = 1, it is an L1 penalty.'): 0.5}),\n",
       " (1.480366179660269,\n",
       "  {Param(parent='LinearRegression_54d1588a4616', name='regParam', doc='regularization parameter (>= 0).'): 0.01,\n",
       "   Param(parent='LinearRegression_54d1588a4616', name='fitIntercept', doc='whether to fit an intercept term.'): False,\n",
       "   Param(parent='LinearRegression_54d1588a4616', name='elasticNetParam', doc='the ElasticNet mixing parameter, in range [0, 1]. For alpha = 0, the penalty is an L2 penalty. For alpha = 1, it is an L1 penalty.'): 1.0}),\n",
       " (1.4665669516780484,\n",
       "  {Param(parent='LinearRegression_54d1588a4616', name='regParam', doc='regularization parameter (>= 0).'): 0.01,\n",
       "   Param(parent='LinearRegression_54d1588a4616', name='fitIntercept', doc='whether to fit an intercept term.'): True,\n",
       "   Param(parent='LinearRegression_54d1588a4616', name='elasticNetParam', doc='the ElasticNet mixing parameter, in range [0, 1]. For alpha = 0, the penalty is an L2 penalty. For alpha = 1, it is an L1 penalty.'): 0.0}),\n",
       " (1.4696831496595684,\n",
       "  {Param(parent='LinearRegression_54d1588a4616', name='regParam', doc='regularization parameter (>= 0).'): 0.01,\n",
       "   Param(parent='LinearRegression_54d1588a4616', name='fitIntercept', doc='whether to fit an intercept term.'): True,\n",
       "   Param(parent='LinearRegression_54d1588a4616', name='elasticNetParam', doc='the ElasticNet mixing parameter, in range [0, 1]. For alpha = 0, the penalty is an L2 penalty. For alpha = 1, it is an L1 penalty.'): 0.5}),\n",
       " (1.4753187661681382,\n",
       "  {Param(parent='LinearRegression_54d1588a4616', name='regParam', doc='regularization parameter (>= 0).'): 0.01,\n",
       "   Param(parent='LinearRegression_54d1588a4616', name='fitIntercept', doc='whether to fit an intercept term.'): True,\n",
       "   Param(parent='LinearRegression_54d1588a4616', name='elasticNetParam', doc='the ElasticNet mixing parameter, in range [0, 1]. For alpha = 0, the penalty is an L2 penalty. For alpha = 1, it is an L1 penalty.'): 1.0}),\n",
       " (1.4695942276121596,\n",
       "  {Param(parent='LinearRegression_54d1588a4616', name='regParam', doc='regularization parameter (>= 0).'): 0.3,\n",
       "   Param(parent='LinearRegression_54d1588a4616', name='fitIntercept', doc='whether to fit an intercept term.'): False,\n",
       "   Param(parent='LinearRegression_54d1588a4616', name='elasticNetParam', doc='the ElasticNet mixing parameter, in range [0, 1]. For alpha = 0, the penalty is an L2 penalty. For alpha = 1, it is an L1 penalty.'): 0.0}),\n",
       " (1.6070874577367666,\n",
       "  {Param(parent='LinearRegression_54d1588a4616', name='regParam', doc='regularization parameter (>= 0).'): 0.3,\n",
       "   Param(parent='LinearRegression_54d1588a4616', name='fitIntercept', doc='whether to fit an intercept term.'): False,\n",
       "   Param(parent='LinearRegression_54d1588a4616', name='elasticNetParam', doc='the ElasticNet mixing parameter, in range [0, 1]. For alpha = 0, the penalty is an L2 penalty. For alpha = 1, it is an L1 penalty.'): 0.5}),\n",
       " (1.6240309349478494,\n",
       "  {Param(parent='LinearRegression_54d1588a4616', name='regParam', doc='regularization parameter (>= 0).'): 0.3,\n",
       "   Param(parent='LinearRegression_54d1588a4616', name='fitIntercept', doc='whether to fit an intercept term.'): False,\n",
       "   Param(parent='LinearRegression_54d1588a4616', name='elasticNetParam', doc='the ElasticNet mixing parameter, in range [0, 1]. For alpha = 0, the penalty is an L2 penalty. For alpha = 1, it is an L1 penalty.'): 1.0}),\n",
       " (1.470710946609405,\n",
       "  {Param(parent='LinearRegression_54d1588a4616', name='regParam', doc='regularization parameter (>= 0).'): 0.3,\n",
       "   Param(parent='LinearRegression_54d1588a4616', name='fitIntercept', doc='whether to fit an intercept term.'): True,\n",
       "   Param(parent='LinearRegression_54d1588a4616', name='elasticNetParam', doc='the ElasticNet mixing parameter, in range [0, 1]. For alpha = 0, the penalty is an L2 penalty. For alpha = 1, it is an L1 penalty.'): 0.0}),\n",
       " (1.5274499325802697,\n",
       "  {Param(parent='LinearRegression_54d1588a4616', name='regParam', doc='regularization parameter (>= 0).'): 0.3,\n",
       "   Param(parent='LinearRegression_54d1588a4616', name='fitIntercept', doc='whether to fit an intercept term.'): True,\n",
       "   Param(parent='LinearRegression_54d1588a4616', name='elasticNetParam', doc='the ElasticNet mixing parameter, in range [0, 1]. For alpha = 0, the penalty is an L2 penalty. For alpha = 1, it is an L1 penalty.'): 0.5}),\n",
       " (1.5436542219310803,\n",
       "  {Param(parent='LinearRegression_54d1588a4616', name='regParam', doc='regularization parameter (>= 0).'): 0.3,\n",
       "   Param(parent='LinearRegression_54d1588a4616', name='fitIntercept', doc='whether to fit an intercept term.'): True,\n",
       "   Param(parent='LinearRegression_54d1588a4616', name='elasticNetParam', doc='the ElasticNet mixing parameter, in range [0, 1]. For alpha = 0, the penalty is an L2 penalty. For alpha = 1, it is an L1 penalty.'): 1.0})]"
      ]
     },
     "execution_count": 14,
     "metadata": {},
     "output_type": "execute_result"
    }
   ],
   "source": [
    "# RMSE results for all hyperperam tuning tests\n",
    "list(zip(model.validationMetrics, model.getEstimatorParamMaps()))"
   ]
  },
  {
   "cell_type": "code",
   "execution_count": 10,
   "metadata": {},
   "outputs": [
    {
     "name": "stdout",
     "output_type": "stream",
     "text": [
      "R Squared on the training set is: 0.835646\n"
     ]
    }
   ],
   "source": [
    "best_model = model.bestModel\n",
    "print('R Squared on the training set is: %f' % best_model.summary.r2)"
   ]
  },
  {
   "cell_type": "code",
   "execution_count": 16,
   "metadata": {},
   "outputs": [
    {
     "name": "stdout",
     "output_type": "stream",
     "text": [
      "RMSE on the training set is: 1.465548\n"
     ]
    }
   ],
   "source": [
    "print('RMSE on the training set is: %f' % best_model.summary.rootMeanSquaredError)"
   ]
  },
  {
   "cell_type": "code",
   "execution_count": 11,
   "metadata": {},
   "outputs": [
    {
     "name": "stderr",
     "output_type": "stream",
     "text": [
      "                                                                                \r"
     ]
    },
    {
     "data": {
      "text/html": [
       "<table border='1'>\n",
       "<tr><th>prediction</th><th>label</th><th>features</th></tr>\n",
       "<tr><td>1.20872259186389</td><td>0.0</td><td>(522,[0,1,260,521...</td></tr>\n",
       "<tr><td>1.123984468090041</td><td>0.0</td><td>(522,[0,1,260,521...</td></tr>\n",
       "<tr><td>1.1041985112631265</td><td>0.0</td><td>(522,[0,1,260,521...</td></tr>\n",
       "<tr><td>1.129292713702004</td><td>0.0</td><td>(522,[0,1,260,521...</td></tr>\n",
       "<tr><td>1.0631590731357672</td><td>0.0</td><td>(522,[0,1,260,521...</td></tr>\n",
       "<tr><td>1.1016277810778745</td><td>0.0</td><td>(522,[0,1,260,521...</td></tr>\n",
       "<tr><td>1.164826372697051</td><td>0.0</td><td>(522,[0,1,260,521...</td></tr>\n",
       "<tr><td>1.2197816697572044</td><td>0.0</td><td>(522,[0,1,260,521...</td></tr>\n",
       "<tr><td>1.466804705099964</td><td>0.0</td><td>(522,[0,1,260,521...</td></tr>\n",
       "<tr><td>1.2058555613981135</td><td>0.0</td><td>(522,[0,1,260,521...</td></tr>\n",
       "<tr><td>1.4458270252274499</td><td>0.0</td><td>(522,[0,1,260,521...</td></tr>\n",
       "<tr><td>1.193121176084622</td><td>0.0</td><td>(522,[0,1,260,521...</td></tr>\n",
       "<tr><td>1.2535720028507906</td><td>0.0</td><td>(522,[0,1,260,521...</td></tr>\n",
       "<tr><td>1.492627545062458</td><td>0.0</td><td>(522,[0,1,260,521...</td></tr>\n",
       "<tr><td>1.1068372599296625</td><td>0.0</td><td>(522,[0,1,260,521...</td></tr>\n",
       "<tr><td>1.2015415053114007</td><td>0.0</td><td>(522,[0,1,260,521...</td></tr>\n",
       "<tr><td>1.1783676634417395</td><td>0.0</td><td>(522,[0,1,260,521...</td></tr>\n",
       "<tr><td>1.3368221032985153</td><td>0.0</td><td>(522,[0,1,260,521...</td></tr>\n",
       "<tr><td>1.1313798595126787</td><td>0.0</td><td>(522,[0,1,260,521...</td></tr>\n",
       "<tr><td>1.182395668674225</td><td>0.0</td><td>(522,[0,1,260,521...</td></tr>\n",
       "</table>\n",
       "only showing top 20 rows\n"
      ],
      "text/plain": [
       "+------------------+-----+--------------------+\n",
       "|        prediction|label|            features|\n",
       "+------------------+-----+--------------------+\n",
       "|  1.20872259186389|  0.0|(522,[0,1,260,521...|\n",
       "| 1.123984468090041|  0.0|(522,[0,1,260,521...|\n",
       "|1.1041985112631265|  0.0|(522,[0,1,260,521...|\n",
       "| 1.129292713702004|  0.0|(522,[0,1,260,521...|\n",
       "|1.0631590731357672|  0.0|(522,[0,1,260,521...|\n",
       "|1.1016277810778745|  0.0|(522,[0,1,260,521...|\n",
       "| 1.164826372697051|  0.0|(522,[0,1,260,521...|\n",
       "|1.2197816697572044|  0.0|(522,[0,1,260,521...|\n",
       "| 1.466804705099964|  0.0|(522,[0,1,260,521...|\n",
       "|1.2058555613981135|  0.0|(522,[0,1,260,521...|\n",
       "|1.4458270252274499|  0.0|(522,[0,1,260,521...|\n",
       "| 1.193121176084622|  0.0|(522,[0,1,260,521...|\n",
       "|1.2535720028507906|  0.0|(522,[0,1,260,521...|\n",
       "| 1.492627545062458|  0.0|(522,[0,1,260,521...|\n",
       "|1.1068372599296625|  0.0|(522,[0,1,260,521...|\n",
       "|1.2015415053114007|  0.0|(522,[0,1,260,521...|\n",
       "|1.1783676634417395|  0.0|(522,[0,1,260,521...|\n",
       "|1.3368221032985153|  0.0|(522,[0,1,260,521...|\n",
       "|1.1313798595126787|  0.0|(522,[0,1,260,521...|\n",
       "| 1.182395668674225|  0.0|(522,[0,1,260,521...|\n",
       "+------------------+-----+--------------------+\n",
       "only showing top 20 rows"
      ]
     },
     "execution_count": 11,
     "metadata": {},
     "output_type": "execute_result"
    }
   ],
   "source": [
    "best_predictions = best_model.transform(test_sdf)\n",
    "best_predictions.select('prediction','label','features')"
   ]
  },
  {
   "cell_type": "code",
   "execution_count": 12,
   "metadata": {},
   "outputs": [
    {
     "name": "stderr",
     "output_type": "stream",
     "text": [
      "[Stage 122:===================================================>   (13 + 1) / 14]\r"
     ]
    },
    {
     "name": "stdout",
     "output_type": "stream",
     "text": [
      "R Squared on test data = 0.645656\n"
     ]
    },
    {
     "name": "stderr",
     "output_type": "stream",
     "text": [
      "                                                                                \r"
     ]
    }
   ],
   "source": [
    "from pyspark.ml.evaluation import RegressionEvaluator\n",
    "best_evaluator = RegressionEvaluator(predictionCol='prediction', \\\n",
    "    labelCol='label',metricName='r2')\n",
    "print('R Squared on test data = %g' % best_evaluator.evaluate(best_predictions))"
   ]
  },
  {
   "cell_type": "code",
   "execution_count": 13,
   "metadata": {},
   "outputs": [
    {
     "name": "stderr",
     "output_type": "stream",
     "text": [
      "[Stage 124:===================================================>   (13 + 1) / 14]\r"
     ]
    },
    {
     "name": "stdout",
     "output_type": "stream",
     "text": [
      "RMSE on test data = 1.47223\n"
     ]
    },
    {
     "name": "stderr",
     "output_type": "stream",
     "text": [
      "                                                                                \r"
     ]
    }
   ],
   "source": [
    "from pyspark.ml.evaluation import RegressionEvaluator\n",
    "best_evaluator = RegressionEvaluator(predictionCol='prediction', \\\n",
    "    labelCol='label',metricName='rmse')\n",
    "print('RMSE on test data = %g' % best_evaluator.evaluate(best_predictions))"
   ]
  },
  {
   "cell_type": "markdown",
   "metadata": {},
   "source": [
    "#### Hyperparameter Tuning of Random Forest Regression"
   ]
  },
  {
   "cell_type": "code",
   "execution_count": null,
   "metadata": {},
   "outputs": [],
   "source": [
    "from pyspark.ml.tuning import ParamGridBuilder\n",
    "from pyspark.ml.tuning import TrainValidationSplit\n",
    "from pyspark.ml.evaluation import RegressionEvaluator\n",
    "from pyspark.ml.regression import RandomForestRegressor\n",
    "\n",
    "rfr = RandomForestRegressor(labelCol='label', featuresCol='features')\n",
    "paramGrid = ParamGridBuilder()\\\n",
    "  .addGrid(rfr.maxDepth, [2, 10])\\\n",
    "  .addGrid(rfr.maxBins, [5, 20])\\\n",
    "  .build()\n",
    "\n",
    "tvs2 = TrainValidationSplit(estimator=rfr,\n",
    "                           estimatorParamMaps=paramGrid,\n",
    "                           evaluator=RegressionEvaluator().setLabelCol('label'),\n",
    "                           # 80% of the data will be used for training, 20% for validation.\n",
    "                           trainRatio=0.8)\n",
    "model2 = tvs2.fit(train_sdf)"
   ]
  },
  {
   "cell_type": "markdown",
   "metadata": {},
   "source": [
    "#### Model Testing of Random Forest Regression"
   ]
  },
  {
   "cell_type": "code",
   "execution_count": null,
   "metadata": {},
   "outputs": [],
   "source": [
    "best_model2 = model2.bestModel\n",
    "print('R Squared on the training set is: %f' % best_model2.summary.r2)"
   ]
  },
  {
   "cell_type": "code",
   "execution_count": null,
   "metadata": {},
   "outputs": [],
   "source": [
    "print('RMSE on the training set is: %f' % best_model2.summary.rootMeanSquaredError)"
   ]
  },
  {
   "cell_type": "code",
   "execution_count": null,
   "metadata": {},
   "outputs": [],
   "source": [
    "best_predictions2 = best_model2.transform(test_sdf)\n",
    "best_predictions2.select('prediction','label','features')"
   ]
  },
  {
   "cell_type": "code",
   "execution_count": null,
   "metadata": {},
   "outputs": [],
   "source": [
    "from pyspark.ml.evaluation import RegressionEvaluator\n",
    "best_evaluator2 = RegressionEvaluator(predictionCol='prediction', \\\n",
    "    labelCol='label',metricName='r2')\n",
    "print('R Squared on test data = %g' % best_evaluator2.evaluate(best_predictions2))"
   ]
  },
  {
   "cell_type": "code",
   "execution_count": null,
   "metadata": {},
   "outputs": [],
   "source": [
    "from pyspark.ml.evaluation import RegressionEvaluator\n",
    "best_evaluator2 = RegressionEvaluator(predictionCol='prediction', \\\n",
    "    labelCol='label',metricName='rmse')\n",
    "print('RMSE on test data = %g' % best_evaluator2.evaluate(best_predictions2))"
   ]
  }
 ],
 "metadata": {
  "kernelspec": {
   "display_name": "Python 3.8.10 64-bit",
   "language": "python",
   "name": "python3"
  },
  "language_info": {
   "codemirror_mode": {
    "name": "ipython",
    "version": 3
   },
   "file_extension": ".py",
   "mimetype": "text/x-python",
   "name": "python",
   "nbconvert_exporter": "python",
   "pygments_lexer": "ipython3",
   "version": "3.8.10"
  },
  "orig_nbformat": 4,
  "vscode": {
   "interpreter": {
    "hash": "916dbcbb3f70747c44a77c7bcd40155683ae19c65e1c03b4aa3499c5328201f1"
   }
  }
 },
 "nbformat": 4,
 "nbformat_minor": 2
}
